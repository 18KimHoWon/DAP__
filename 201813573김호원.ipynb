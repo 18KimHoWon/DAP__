{
  "nbformat": 4,
  "nbformat_minor": 0,
  "metadata": {
    "colab": {
      "name": "201813573김호원.ipynb",
      "provenance": [],
      "collapsed_sections": [],
      "authorship_tag": "ABX9TyMzJBZ0i3kY1OKn16wzOm9P",
      "include_colab_link": true
    },
    "kernelspec": {
      "name": "python3",
      "display_name": "Python 3"
    },
    "language_info": {
      "name": "python"
    }
  },
  "cells": [
    {
      "cell_type": "markdown",
      "metadata": {
        "id": "view-in-github",
        "colab_type": "text"
      },
      "source": [
        "<a href=\"https://colab.research.google.com/github/18KimHoWon/DAP__/blob/main/201813573%EA%B9%80%ED%98%B8%EC%9B%90.ipynb\" target=\"_parent\"><img src=\"https://colab.research.google.com/assets/colab-badge.svg\" alt=\"Open In Colab\"/></a>"
      ]
    },
    {
      "cell_type": "code",
      "metadata": {
        "id": "KbRlciIKYPXL"
      },
      "source": [
        "import numpy as np\n",
        "import pandas as pd"
      ],
      "execution_count": 2,
      "outputs": []
    },
    {
      "cell_type": "markdown",
      "metadata": {
        "id": "G9dJhrKL-9NS"
      },
      "source": [
        "https://www.kaggle.com/bappekim/south-korea-visitors?select=Enter_korea_by_purpose.csv\n",
        " 링크에서 데이터 파일을 저장해 세션 저장소에 업로드한 후 진행했다.\n",
        "\n",
        "1.   나이별 방문객\n",
        "2.   목적별 방문객"
      ]
    },
    {
      "cell_type": "code",
      "metadata": {
        "colab": {
          "base_uri": "https://localhost:8080/",
          "height": 206
        },
        "id": "_vgEUIn4-9VB",
        "outputId": "d9c2f53d-be64-415c-fa2d-891a46a17737"
      },
      "source": [
        "agedf = pd.read_csv('Enter_korea_by_age.csv')\n",
        "agedf.drop(['growth', 'share'], axis = 1, inplace=True)\n",
        "agedf.head()"
      ],
      "execution_count": 3,
      "outputs": [
        {
          "output_type": "execute_result",
          "data": {
            "text/html": [
              "\n",
              "  <div id=\"df-6b34011a-9034-43c2-b4a8-faf40192281b\">\n",
              "    <div class=\"colab-df-container\">\n",
              "      <div>\n",
              "<style scoped>\n",
              "    .dataframe tbody tr th:only-of-type {\n",
              "        vertical-align: middle;\n",
              "    }\n",
              "\n",
              "    .dataframe tbody tr th {\n",
              "        vertical-align: top;\n",
              "    }\n",
              "\n",
              "    .dataframe thead th {\n",
              "        text-align: right;\n",
              "    }\n",
              "</style>\n",
              "<table border=\"1\" class=\"dataframe\">\n",
              "  <thead>\n",
              "    <tr style=\"text-align: right;\">\n",
              "      <th></th>\n",
              "      <th>date</th>\n",
              "      <th>nation</th>\n",
              "      <th>visitor</th>\n",
              "      <th>age0-20</th>\n",
              "      <th>age21-30</th>\n",
              "      <th>age31-40</th>\n",
              "      <th>age41-50</th>\n",
              "      <th>age51-60</th>\n",
              "      <th>age61</th>\n",
              "    </tr>\n",
              "  </thead>\n",
              "  <tbody>\n",
              "    <tr>\n",
              "      <th>0</th>\n",
              "      <td>2019-1</td>\n",
              "      <td>China</td>\n",
              "      <td>392814</td>\n",
              "      <td>36520</td>\n",
              "      <td>108591</td>\n",
              "      <td>103657</td>\n",
              "      <td>48574</td>\n",
              "      <td>40893</td>\n",
              "      <td>40998</td>\n",
              "    </tr>\n",
              "    <tr>\n",
              "      <th>1</th>\n",
              "      <td>2019-1</td>\n",
              "      <td>Japan</td>\n",
              "      <td>206526</td>\n",
              "      <td>18015</td>\n",
              "      <td>57921</td>\n",
              "      <td>34165</td>\n",
              "      <td>39811</td>\n",
              "      <td>33857</td>\n",
              "      <td>20330</td>\n",
              "    </tr>\n",
              "    <tr>\n",
              "      <th>2</th>\n",
              "      <td>2019-1</td>\n",
              "      <td>Taiwan</td>\n",
              "      <td>87954</td>\n",
              "      <td>18888</td>\n",
              "      <td>17927</td>\n",
              "      <td>18595</td>\n",
              "      <td>18862</td>\n",
              "      <td>8169</td>\n",
              "      <td>4566</td>\n",
              "    </tr>\n",
              "    <tr>\n",
              "      <th>3</th>\n",
              "      <td>2019-1</td>\n",
              "      <td>Hong Kong</td>\n",
              "      <td>35896</td>\n",
              "      <td>3890</td>\n",
              "      <td>11384</td>\n",
              "      <td>7400</td>\n",
              "      <td>5461</td>\n",
              "      <td>4629</td>\n",
              "      <td>2137</td>\n",
              "    </tr>\n",
              "    <tr>\n",
              "      <th>4</th>\n",
              "      <td>2019-1</td>\n",
              "      <td>Macao</td>\n",
              "      <td>2570</td>\n",
              "      <td>223</td>\n",
              "      <td>1013</td>\n",
              "      <td>762</td>\n",
              "      <td>264</td>\n",
              "      <td>181</td>\n",
              "      <td>92</td>\n",
              "    </tr>\n",
              "  </tbody>\n",
              "</table>\n",
              "</div>\n",
              "      <button class=\"colab-df-convert\" onclick=\"convertToInteractive('df-6b34011a-9034-43c2-b4a8-faf40192281b')\"\n",
              "              title=\"Convert this dataframe to an interactive table.\"\n",
              "              style=\"display:none;\">\n",
              "        \n",
              "  <svg xmlns=\"http://www.w3.org/2000/svg\" height=\"24px\"viewBox=\"0 0 24 24\"\n",
              "       width=\"24px\">\n",
              "    <path d=\"M0 0h24v24H0V0z\" fill=\"none\"/>\n",
              "    <path d=\"M18.56 5.44l.94 2.06.94-2.06 2.06-.94-2.06-.94-.94-2.06-.94 2.06-2.06.94zm-11 1L8.5 8.5l.94-2.06 2.06-.94-2.06-.94L8.5 2.5l-.94 2.06-2.06.94zm10 10l.94 2.06.94-2.06 2.06-.94-2.06-.94-.94-2.06-.94 2.06-2.06.94z\"/><path d=\"M17.41 7.96l-1.37-1.37c-.4-.4-.92-.59-1.43-.59-.52 0-1.04.2-1.43.59L10.3 9.45l-7.72 7.72c-.78.78-.78 2.05 0 2.83L4 21.41c.39.39.9.59 1.41.59.51 0 1.02-.2 1.41-.59l7.78-7.78 2.81-2.81c.8-.78.8-2.07 0-2.86zM5.41 20L4 18.59l7.72-7.72 1.47 1.35L5.41 20z\"/>\n",
              "  </svg>\n",
              "      </button>\n",
              "      \n",
              "  <style>\n",
              "    .colab-df-container {\n",
              "      display:flex;\n",
              "      flex-wrap:wrap;\n",
              "      gap: 12px;\n",
              "    }\n",
              "\n",
              "    .colab-df-convert {\n",
              "      background-color: #E8F0FE;\n",
              "      border: none;\n",
              "      border-radius: 50%;\n",
              "      cursor: pointer;\n",
              "      display: none;\n",
              "      fill: #1967D2;\n",
              "      height: 32px;\n",
              "      padding: 0 0 0 0;\n",
              "      width: 32px;\n",
              "    }\n",
              "\n",
              "    .colab-df-convert:hover {\n",
              "      background-color: #E2EBFA;\n",
              "      box-shadow: 0px 1px 2px rgba(60, 64, 67, 0.3), 0px 1px 3px 1px rgba(60, 64, 67, 0.15);\n",
              "      fill: #174EA6;\n",
              "    }\n",
              "\n",
              "    [theme=dark] .colab-df-convert {\n",
              "      background-color: #3B4455;\n",
              "      fill: #D2E3FC;\n",
              "    }\n",
              "\n",
              "    [theme=dark] .colab-df-convert:hover {\n",
              "      background-color: #434B5C;\n",
              "      box-shadow: 0px 1px 3px 1px rgba(0, 0, 0, 0.15);\n",
              "      filter: drop-shadow(0px 1px 2px rgba(0, 0, 0, 0.3));\n",
              "      fill: #FFFFFF;\n",
              "    }\n",
              "  </style>\n",
              "\n",
              "      <script>\n",
              "        const buttonEl =\n",
              "          document.querySelector('#df-6b34011a-9034-43c2-b4a8-faf40192281b button.colab-df-convert');\n",
              "        buttonEl.style.display =\n",
              "          google.colab.kernel.accessAllowed ? 'block' : 'none';\n",
              "\n",
              "        async function convertToInteractive(key) {\n",
              "          const element = document.querySelector('#df-6b34011a-9034-43c2-b4a8-faf40192281b');\n",
              "          const dataTable =\n",
              "            await google.colab.kernel.invokeFunction('convertToInteractive',\n",
              "                                                     [key], {});\n",
              "          if (!dataTable) return;\n",
              "\n",
              "          const docLinkHtml = 'Like what you see? Visit the ' +\n",
              "            '<a target=\"_blank\" href=https://colab.research.google.com/notebooks/data_table.ipynb>data table notebook</a>'\n",
              "            + ' to learn more about interactive tables.';\n",
              "          element.innerHTML = '';\n",
              "          dataTable['output_type'] = 'display_data';\n",
              "          await google.colab.output.renderOutput(dataTable, element);\n",
              "          const docLink = document.createElement('div');\n",
              "          docLink.innerHTML = docLinkHtml;\n",
              "          element.appendChild(docLink);\n",
              "        }\n",
              "      </script>\n",
              "    </div>\n",
              "  </div>\n",
              "  "
            ],
            "text/plain": [
              "     date     nation  visitor  age0-20  ...  age31-40  age41-50  age51-60  age61\n",
              "0  2019-1      China   392814    36520  ...    103657     48574     40893  40998\n",
              "1  2019-1      Japan   206526    18015  ...     34165     39811     33857  20330\n",
              "2  2019-1     Taiwan    87954    18888  ...     18595     18862      8169   4566\n",
              "3  2019-1  Hong Kong    35896     3890  ...      7400      5461      4629   2137\n",
              "4  2019-1      Macao     2570      223  ...       762       264       181     92\n",
              "\n",
              "[5 rows x 9 columns]"
            ]
          },
          "metadata": {},
          "execution_count": 3
        }
      ]
    },
    {
      "cell_type": "code",
      "metadata": {
        "colab": {
          "base_uri": "https://localhost:8080/",
          "height": 206
        },
        "id": "UlGhosKr_A3p",
        "outputId": "b1f6ca97-7dc5-447f-889c-284405cf1570"
      },
      "source": [
        "purposedf = pd.read_csv('Enter_korea_by_purpose.csv')\n",
        "purposedf.drop(['growth', 'share'], axis = 1, inplace=True)\n",
        "purposedf.head()"
      ],
      "execution_count": 4,
      "outputs": [
        {
          "output_type": "execute_result",
          "data": {
            "text/html": [
              "\n",
              "  <div id=\"df-9aa859ed-845a-400f-a86d-4b53375dbc6b\">\n",
              "    <div class=\"colab-df-container\">\n",
              "      <div>\n",
              "<style scoped>\n",
              "    .dataframe tbody tr th:only-of-type {\n",
              "        vertical-align: middle;\n",
              "    }\n",
              "\n",
              "    .dataframe tbody tr th {\n",
              "        vertical-align: top;\n",
              "    }\n",
              "\n",
              "    .dataframe thead th {\n",
              "        text-align: right;\n",
              "    }\n",
              "</style>\n",
              "<table border=\"1\" class=\"dataframe\">\n",
              "  <thead>\n",
              "    <tr style=\"text-align: right;\">\n",
              "      <th></th>\n",
              "      <th>date</th>\n",
              "      <th>nation</th>\n",
              "      <th>visitor</th>\n",
              "      <th>tourism</th>\n",
              "      <th>business</th>\n",
              "      <th>official affairs</th>\n",
              "      <th>studying</th>\n",
              "      <th>others</th>\n",
              "    </tr>\n",
              "  </thead>\n",
              "  <tbody>\n",
              "    <tr>\n",
              "      <th>0</th>\n",
              "      <td>2019-1</td>\n",
              "      <td>China</td>\n",
              "      <td>392814</td>\n",
              "      <td>320113</td>\n",
              "      <td>2993</td>\n",
              "      <td>138</td>\n",
              "      <td>8793</td>\n",
              "      <td>60777</td>\n",
              "    </tr>\n",
              "    <tr>\n",
              "      <th>1</th>\n",
              "      <td>2019-1</td>\n",
              "      <td>Japan</td>\n",
              "      <td>206526</td>\n",
              "      <td>198805</td>\n",
              "      <td>2233</td>\n",
              "      <td>127</td>\n",
              "      <td>785</td>\n",
              "      <td>4576</td>\n",
              "    </tr>\n",
              "    <tr>\n",
              "      <th>2</th>\n",
              "      <td>2019-1</td>\n",
              "      <td>Taiwan</td>\n",
              "      <td>87954</td>\n",
              "      <td>86393</td>\n",
              "      <td>74</td>\n",
              "      <td>22</td>\n",
              "      <td>180</td>\n",
              "      <td>1285</td>\n",
              "    </tr>\n",
              "    <tr>\n",
              "      <th>3</th>\n",
              "      <td>2019-1</td>\n",
              "      <td>Hong Kong</td>\n",
              "      <td>35896</td>\n",
              "      <td>34653</td>\n",
              "      <td>59</td>\n",
              "      <td>2</td>\n",
              "      <td>90</td>\n",
              "      <td>1092</td>\n",
              "    </tr>\n",
              "    <tr>\n",
              "      <th>4</th>\n",
              "      <td>2019-1</td>\n",
              "      <td>Macao</td>\n",
              "      <td>2570</td>\n",
              "      <td>2506</td>\n",
              "      <td>2</td>\n",
              "      <td>0</td>\n",
              "      <td>17</td>\n",
              "      <td>45</td>\n",
              "    </tr>\n",
              "  </tbody>\n",
              "</table>\n",
              "</div>\n",
              "      <button class=\"colab-df-convert\" onclick=\"convertToInteractive('df-9aa859ed-845a-400f-a86d-4b53375dbc6b')\"\n",
              "              title=\"Convert this dataframe to an interactive table.\"\n",
              "              style=\"display:none;\">\n",
              "        \n",
              "  <svg xmlns=\"http://www.w3.org/2000/svg\" height=\"24px\"viewBox=\"0 0 24 24\"\n",
              "       width=\"24px\">\n",
              "    <path d=\"M0 0h24v24H0V0z\" fill=\"none\"/>\n",
              "    <path d=\"M18.56 5.44l.94 2.06.94-2.06 2.06-.94-2.06-.94-.94-2.06-.94 2.06-2.06.94zm-11 1L8.5 8.5l.94-2.06 2.06-.94-2.06-.94L8.5 2.5l-.94 2.06-2.06.94zm10 10l.94 2.06.94-2.06 2.06-.94-2.06-.94-.94-2.06-.94 2.06-2.06.94z\"/><path d=\"M17.41 7.96l-1.37-1.37c-.4-.4-.92-.59-1.43-.59-.52 0-1.04.2-1.43.59L10.3 9.45l-7.72 7.72c-.78.78-.78 2.05 0 2.83L4 21.41c.39.39.9.59 1.41.59.51 0 1.02-.2 1.41-.59l7.78-7.78 2.81-2.81c.8-.78.8-2.07 0-2.86zM5.41 20L4 18.59l7.72-7.72 1.47 1.35L5.41 20z\"/>\n",
              "  </svg>\n",
              "      </button>\n",
              "      \n",
              "  <style>\n",
              "    .colab-df-container {\n",
              "      display:flex;\n",
              "      flex-wrap:wrap;\n",
              "      gap: 12px;\n",
              "    }\n",
              "\n",
              "    .colab-df-convert {\n",
              "      background-color: #E8F0FE;\n",
              "      border: none;\n",
              "      border-radius: 50%;\n",
              "      cursor: pointer;\n",
              "      display: none;\n",
              "      fill: #1967D2;\n",
              "      height: 32px;\n",
              "      padding: 0 0 0 0;\n",
              "      width: 32px;\n",
              "    }\n",
              "\n",
              "    .colab-df-convert:hover {\n",
              "      background-color: #E2EBFA;\n",
              "      box-shadow: 0px 1px 2px rgba(60, 64, 67, 0.3), 0px 1px 3px 1px rgba(60, 64, 67, 0.15);\n",
              "      fill: #174EA6;\n",
              "    }\n",
              "\n",
              "    [theme=dark] .colab-df-convert {\n",
              "      background-color: #3B4455;\n",
              "      fill: #D2E3FC;\n",
              "    }\n",
              "\n",
              "    [theme=dark] .colab-df-convert:hover {\n",
              "      background-color: #434B5C;\n",
              "      box-shadow: 0px 1px 3px 1px rgba(0, 0, 0, 0.15);\n",
              "      filter: drop-shadow(0px 1px 2px rgba(0, 0, 0, 0.3));\n",
              "      fill: #FFFFFF;\n",
              "    }\n",
              "  </style>\n",
              "\n",
              "      <script>\n",
              "        const buttonEl =\n",
              "          document.querySelector('#df-9aa859ed-845a-400f-a86d-4b53375dbc6b button.colab-df-convert');\n",
              "        buttonEl.style.display =\n",
              "          google.colab.kernel.accessAllowed ? 'block' : 'none';\n",
              "\n",
              "        async function convertToInteractive(key) {\n",
              "          const element = document.querySelector('#df-9aa859ed-845a-400f-a86d-4b53375dbc6b');\n",
              "          const dataTable =\n",
              "            await google.colab.kernel.invokeFunction('convertToInteractive',\n",
              "                                                     [key], {});\n",
              "          if (!dataTable) return;\n",
              "\n",
              "          const docLinkHtml = 'Like what you see? Visit the ' +\n",
              "            '<a target=\"_blank\" href=https://colab.research.google.com/notebooks/data_table.ipynb>data table notebook</a>'\n",
              "            + ' to learn more about interactive tables.';\n",
              "          element.innerHTML = '';\n",
              "          dataTable['output_type'] = 'display_data';\n",
              "          await google.colab.output.renderOutput(dataTable, element);\n",
              "          const docLink = document.createElement('div');\n",
              "          docLink.innerHTML = docLinkHtml;\n",
              "          element.appendChild(docLink);\n",
              "        }\n",
              "      </script>\n",
              "    </div>\n",
              "  </div>\n",
              "  "
            ],
            "text/plain": [
              "     date     nation  visitor  ...  official affairs  studying  others\n",
              "0  2019-1      China   392814  ...               138      8793   60777\n",
              "1  2019-1      Japan   206526  ...               127       785    4576\n",
              "2  2019-1     Taiwan    87954  ...                22       180    1285\n",
              "3  2019-1  Hong Kong    35896  ...                 2        90    1092\n",
              "4  2019-1      Macao     2570  ...                 0        17      45\n",
              "\n",
              "[5 rows x 8 columns]"
            ]
          },
          "metadata": {},
          "execution_count": 4
        }
      ]
    },
    {
      "cell_type": "markdown",
      "metadata": {
        "id": "ndlPXySmAHHa"
      },
      "source": [
        "가장 많이 우리나라를 방문한 사람들의 국적을 찾았다. (방문객순으로 내림차순 정렬)"
      ]
    },
    {
      "cell_type": "code",
      "metadata": {
        "colab": {
          "base_uri": "https://localhost:8080/",
          "height": 206
        },
        "id": "I3SiDP5LAHOZ",
        "outputId": "1b22d7e3-7e91-4ff7-995d-c506cf1a612c"
      },
      "source": [
        "agedf.sort_values(by=['visitor'], ascending=False).drop_duplicates(['nation']).head()"
      ],
      "execution_count": 5,
      "outputs": [
        {
          "output_type": "execute_result",
          "data": {
            "text/html": [
              "\n",
              "  <div id=\"df-743be898-65de-412b-b237-402f4256ddaf\">\n",
              "    <div class=\"colab-df-container\">\n",
              "      <div>\n",
              "<style scoped>\n",
              "    .dataframe tbody tr th:only-of-type {\n",
              "        vertical-align: middle;\n",
              "    }\n",
              "\n",
              "    .dataframe tbody tr th {\n",
              "        vertical-align: top;\n",
              "    }\n",
              "\n",
              "    .dataframe thead th {\n",
              "        text-align: right;\n",
              "    }\n",
              "</style>\n",
              "<table border=\"1\" class=\"dataframe\">\n",
              "  <thead>\n",
              "    <tr style=\"text-align: right;\">\n",
              "      <th></th>\n",
              "      <th>date</th>\n",
              "      <th>nation</th>\n",
              "      <th>visitor</th>\n",
              "      <th>age0-20</th>\n",
              "      <th>age21-30</th>\n",
              "      <th>age31-40</th>\n",
              "      <th>age41-50</th>\n",
              "      <th>age51-60</th>\n",
              "      <th>age61</th>\n",
              "    </tr>\n",
              "  </thead>\n",
              "  <tbody>\n",
              "    <tr>\n",
              "      <th>420</th>\n",
              "      <td>2019-8</td>\n",
              "      <td>China</td>\n",
              "      <td>578112</td>\n",
              "      <td>78339</td>\n",
              "      <td>160089</td>\n",
              "      <td>142873</td>\n",
              "      <td>76689</td>\n",
              "      <td>57236</td>\n",
              "      <td>46840</td>\n",
              "    </tr>\n",
              "    <tr>\n",
              "      <th>121</th>\n",
              "      <td>2019-3</td>\n",
              "      <td>Japan</td>\n",
              "      <td>375119</td>\n",
              "      <td>81364</td>\n",
              "      <td>112727</td>\n",
              "      <td>42342</td>\n",
              "      <td>59631</td>\n",
              "      <td>47010</td>\n",
              "      <td>29468</td>\n",
              "    </tr>\n",
              "    <tr>\n",
              "      <th>542</th>\n",
              "      <td>2019-10</td>\n",
              "      <td>Taiwan</td>\n",
              "      <td>127944</td>\n",
              "      <td>9945</td>\n",
              "      <td>29979</td>\n",
              "      <td>32220</td>\n",
              "      <td>22929</td>\n",
              "      <td>18315</td>\n",
              "      <td>13589</td>\n",
              "    </tr>\n",
              "    <tr>\n",
              "      <th>325</th>\n",
              "      <td>2019-6</td>\n",
              "      <td>USA</td>\n",
              "      <td>105398</td>\n",
              "      <td>25567</td>\n",
              "      <td>16732</td>\n",
              "      <td>13859</td>\n",
              "      <td>17788</td>\n",
              "      <td>15491</td>\n",
              "      <td>10452</td>\n",
              "    </tr>\n",
              "    <tr>\n",
              "      <th>183</th>\n",
              "      <td>2019-4</td>\n",
              "      <td>Hong Kong</td>\n",
              "      <td>76104</td>\n",
              "      <td>12113</td>\n",
              "      <td>12084</td>\n",
              "      <td>14315</td>\n",
              "      <td>15750</td>\n",
              "      <td>12675</td>\n",
              "      <td>8376</td>\n",
              "    </tr>\n",
              "  </tbody>\n",
              "</table>\n",
              "</div>\n",
              "      <button class=\"colab-df-convert\" onclick=\"convertToInteractive('df-743be898-65de-412b-b237-402f4256ddaf')\"\n",
              "              title=\"Convert this dataframe to an interactive table.\"\n",
              "              style=\"display:none;\">\n",
              "        \n",
              "  <svg xmlns=\"http://www.w3.org/2000/svg\" height=\"24px\"viewBox=\"0 0 24 24\"\n",
              "       width=\"24px\">\n",
              "    <path d=\"M0 0h24v24H0V0z\" fill=\"none\"/>\n",
              "    <path d=\"M18.56 5.44l.94 2.06.94-2.06 2.06-.94-2.06-.94-.94-2.06-.94 2.06-2.06.94zm-11 1L8.5 8.5l.94-2.06 2.06-.94-2.06-.94L8.5 2.5l-.94 2.06-2.06.94zm10 10l.94 2.06.94-2.06 2.06-.94-2.06-.94-.94-2.06-.94 2.06-2.06.94z\"/><path d=\"M17.41 7.96l-1.37-1.37c-.4-.4-.92-.59-1.43-.59-.52 0-1.04.2-1.43.59L10.3 9.45l-7.72 7.72c-.78.78-.78 2.05 0 2.83L4 21.41c.39.39.9.59 1.41.59.51 0 1.02-.2 1.41-.59l7.78-7.78 2.81-2.81c.8-.78.8-2.07 0-2.86zM5.41 20L4 18.59l7.72-7.72 1.47 1.35L5.41 20z\"/>\n",
              "  </svg>\n",
              "      </button>\n",
              "      \n",
              "  <style>\n",
              "    .colab-df-container {\n",
              "      display:flex;\n",
              "      flex-wrap:wrap;\n",
              "      gap: 12px;\n",
              "    }\n",
              "\n",
              "    .colab-df-convert {\n",
              "      background-color: #E8F0FE;\n",
              "      border: none;\n",
              "      border-radius: 50%;\n",
              "      cursor: pointer;\n",
              "      display: none;\n",
              "      fill: #1967D2;\n",
              "      height: 32px;\n",
              "      padding: 0 0 0 0;\n",
              "      width: 32px;\n",
              "    }\n",
              "\n",
              "    .colab-df-convert:hover {\n",
              "      background-color: #E2EBFA;\n",
              "      box-shadow: 0px 1px 2px rgba(60, 64, 67, 0.3), 0px 1px 3px 1px rgba(60, 64, 67, 0.15);\n",
              "      fill: #174EA6;\n",
              "    }\n",
              "\n",
              "    [theme=dark] .colab-df-convert {\n",
              "      background-color: #3B4455;\n",
              "      fill: #D2E3FC;\n",
              "    }\n",
              "\n",
              "    [theme=dark] .colab-df-convert:hover {\n",
              "      background-color: #434B5C;\n",
              "      box-shadow: 0px 1px 3px 1px rgba(0, 0, 0, 0.15);\n",
              "      filter: drop-shadow(0px 1px 2px rgba(0, 0, 0, 0.3));\n",
              "      fill: #FFFFFF;\n",
              "    }\n",
              "  </style>\n",
              "\n",
              "      <script>\n",
              "        const buttonEl =\n",
              "          document.querySelector('#df-743be898-65de-412b-b237-402f4256ddaf button.colab-df-convert');\n",
              "        buttonEl.style.display =\n",
              "          google.colab.kernel.accessAllowed ? 'block' : 'none';\n",
              "\n",
              "        async function convertToInteractive(key) {\n",
              "          const element = document.querySelector('#df-743be898-65de-412b-b237-402f4256ddaf');\n",
              "          const dataTable =\n",
              "            await google.colab.kernel.invokeFunction('convertToInteractive',\n",
              "                                                     [key], {});\n",
              "          if (!dataTable) return;\n",
              "\n",
              "          const docLinkHtml = 'Like what you see? Visit the ' +\n",
              "            '<a target=\"_blank\" href=https://colab.research.google.com/notebooks/data_table.ipynb>data table notebook</a>'\n",
              "            + ' to learn more about interactive tables.';\n",
              "          element.innerHTML = '';\n",
              "          dataTable['output_type'] = 'display_data';\n",
              "          await google.colab.output.renderOutput(dataTable, element);\n",
              "          const docLink = document.createElement('div');\n",
              "          docLink.innerHTML = docLinkHtml;\n",
              "          element.appendChild(docLink);\n",
              "        }\n",
              "      </script>\n",
              "    </div>\n",
              "  </div>\n",
              "  "
            ],
            "text/plain": [
              "        date     nation  visitor  age0-20  ...  age31-40  age41-50  age51-60  age61\n",
              "420   2019-8      China   578112    78339  ...    142873     76689     57236  46840\n",
              "121   2019-3      Japan   375119    81364  ...     42342     59631     47010  29468\n",
              "542  2019-10     Taiwan   127944     9945  ...     32220     22929     18315  13589\n",
              "325   2019-6        USA   105398    25567  ...     13859     17788     15491  10452\n",
              "183   2019-4  Hong Kong    76104    12113  ...     14315     15750     12675   8376\n",
              "\n",
              "[5 rows x 9 columns]"
            ]
          },
          "metadata": {},
          "execution_count": 5
        }
      ]
    },
    {
      "cell_type": "markdown",
      "source": [
        "중국, 일본, 대만, 미국, 홍콩 국적을 가진 방문객의 수를 월별로 그려보았다."
      ],
      "metadata": {
        "id": "wHLsJYU9xKCu"
      }
    },
    {
      "cell_type": "code",
      "source": [
        "import matplotlib.pyplot as plt\n",
        "\n",
        "agedfC = agedf.loc[agedf['nation']==\"China\"]\n",
        "agedfJ = agedf.loc[agedf['nation']==\"Japan\"]\n",
        "agedfT = agedf.loc[agedf['nation']==\"Taiwan\"]\n",
        "agedfU = agedf.loc[agedf['nation']==\"USA\"]\n",
        "agedfH = agedf.loc[agedf['nation']==\"Hong Kong\"]\n",
        "\n",
        "fig,ax = plt.subplots(figsize = (15,10))\n",
        "\n",
        "x = agedfC['date']\n",
        "y = agedfC['visitor']\n",
        "ax.plot(x, y, label='China', color='red')\n",
        "y = agedfJ['visitor']\n",
        "ax.plot(x, y, label='Japan', color='blue')\n",
        "y = agedfT['visitor']\n",
        "ax.plot(x, y, label='Taiwan', color='green')\n",
        "y = agedfU['visitor']\n",
        "ax.plot(x, y, label='USA', color='black')\n",
        "y = agedfH['visitor']\n",
        "ax.plot(x, y, label='Hong Kong', color='orange')\n",
        "\n",
        "ax.legend()\n",
        "plt.show()"
      ],
      "metadata": {
        "colab": {
          "base_uri": "https://localhost:8080/",
          "height": 592
        },
        "id": "OAn7EYkixKKd",
        "outputId": "7fafc5db-ec91-4f58-a5d6-f8dced3d4a4e"
      },
      "execution_count": 43,
      "outputs": [
        {
          "output_type": "display_data",
          "data": {
            "image/png": "[encoded data removed]",
            "text/plain": [
              "<Figure size 1080x720 with 1 Axes>"
            ]
          },
          "metadata": {
            "needs_background": "light"
          }
        }
      ]
    },
    {
      "cell_type": "markdown",
      "source": [
        "19년 1월부터 20년 4월까지 모든 방문객의 국가 비율을 pieplot으로 그렸다."
      ],
      "metadata": {
        "id": "q3pmTNEMt4VT"
      }
    },
    {
      "cell_type": "code",
      "source": [
        "Cv = agedf[agedf['nation']==\"China\"].sum()['visitor']\n",
        "Jv = agedf[agedf['nation']==\"Japan\"].sum()['visitor']\n",
        "Tv = agedf[agedf['nation']==\"Taiwan\"].sum()['visitor']\n",
        "Uv = agedf[agedf['nation']==\"USA\"].sum()['visitor']\n",
        "Hv = agedf[agedf['nation']==\"Hong Kong\"].sum()['visitor']\n",
        "Ev = agedf['visitor'].sum() - (Cv + Jv + Tv + Uv + Hv)\n",
        "\n",
        "subjects = [\"China\", \"Japan\", \"Taiwan\", \"USA\", \"Hong Kong\", \"Else\"]\n",
        "scores = [Cv, Jv, Tv, Uv, Hv, Ev]\n",
        "\n",
        "plt.pie(scores, labels = subjects, autopct = '%1.1f%%')\n"
      ],
      "metadata": {
        "id": "ec-I9X-IFAHG",
        "colab": {
          "base_uri": "https://localhost:8080/",
          "height": 578
        },
        "outputId": "48823e6e-de81-47ac-be6d-732724cc1afa"
      },
      "execution_count": 7,
      "outputs": [
        {
          "output_type": "execute_result",
          "data": {
            "text/plain": [
              "([<matplotlib.patches.Wedge at 0x7f0b8adbcdd0>,\n",
              "  <matplotlib.patches.Wedge at 0x7f0b8adca510>,\n",
              "  <matplotlib.patches.Wedge at 0x7f0b8adcad90>,\n",
              "  <matplotlib.patches.Wedge at 0x7f0b8add36d0>,\n",
              "  <matplotlib.patches.Wedge at 0x7f0b8adde250>,\n",
              "  <matplotlib.patches.Wedge at 0x7f0b8addeb90>],\n",
              " [Text(0.5339009399200487, 0.9617430978969844, 'China'),\n",
              "  Text(-1.0042123876542444, 0.4489515346691242, 'Japan'),\n",
              "  Text(-1.0125712235343947, -0.4297668173208106, 'Taiwan'),\n",
              "  Text(-0.7520934256760301, -0.8027175587059834, 'USA'),\n",
              "  Text(-0.4677862665380963, -0.9955782283870762, 'Hong Kong'),\n",
              "  Text(0.6468343591402796, -0.8897220418959979, 'Else')],\n",
              " [Text(0.29121869450184473, 0.524587144307446, '33.9%'),\n",
              "  Text(-0.5477522114477695, 0.24488265527406772, '18.9%'),\n",
              "  Text(-0.5523115764733061, -0.2344182639931694, '7.3%'),\n",
              "  Text(-0.4102327776414709, -0.43784594111235453, '6.0%'),\n",
              "  Text(-0.25515614538441617, -0.5430426700293143, '4.0%'),\n",
              "  Text(0.3528187413492434, -0.4853029319432715, '30.0%')])"
            ]
          },
          "metadata": {},
          "execution_count": 7
        },
        {
          "output_type": "display_data",
          "data": {
            "image/png": "[encoded data removed]",
            "text/plain": [
              "<Figure size 432x288 with 1 Axes>"
            ]
          },
          "metadata": {}
        }
      ]
    },
    {
      "cell_type": "markdown",
      "source": [
        "관광객들의 나이 분포를 나타낸 pieplot을 그린 결과 20대와 30대가 전체 관광객의 절반을 넘었다."
      ],
      "metadata": {
        "id": "MKHPkRRbv0Yb"
      }
    },
    {
      "cell_type": "code",
      "source": [
        "a1 = agedf['age0-20'].sum()\n",
        "a2 = agedf['age21-30'].sum()\n",
        "a3 = agedf['age31-40'].sum()\n",
        "a4 = agedf['age41-50'].sum()\n",
        "a5 = agedf['age51-60'].sum()\n",
        "a6 = agedf['age61'].sum()\n",
        "subjects = [\"age0-20\", \"age21-30\", \"age31-40\", \"age41-50\", \"age51-60\", \"age61\"]\n",
        "scores = [a1, a2, a3, a4, a5, a6]\n",
        "plt.pie(scores, labels = subjects, explode = (0.05,0.05,0.05,0.05,0.05,0.05), autopct = '%1.1f%%')"
      ],
      "metadata": {
        "colab": {
          "base_uri": "https://localhost:8080/",
          "height": 578
        },
        "id": "NNuQzDnGu5qZ",
        "outputId": "5f9c2e74-9463-49e2-a05d-23ea7703c473"
      },
      "execution_count": 8,
      "outputs": [
        {
          "output_type": "execute_result",
          "data": {
            "text/plain": [
              "([<matplotlib.patches.Wedge at 0x7f0b8ad35b10>,\n",
              "  <matplotlib.patches.Wedge at 0x7f0b8ad40150>,\n",
              "  <matplotlib.patches.Wedge at 0x7f0b8ad409d0>,\n",
              "  <matplotlib.patches.Wedge at 0x7f0b8ad4a310>,\n",
              "  <matplotlib.patches.Wedge at 0x7f0b8ad4ae50>,\n",
              "  <matplotlib.patches.Wedge at 0x7f0b8ad537d0>],\n",
              " [Text(1.0928149540134522, 0.35812773738510734, 'age0-20'),\n",
              "  Text(0.11006546235561698, 1.1447207493517555, 'age21-30'),\n",
              "  Text(-1.1450757279688695, 0.10630887647117727, 'age31-40'),\n",
              "  Text(-0.4737402788254761, -1.0478884235539394, 'age41-50'),\n",
              "  Text(0.553259000274521, -1.0081688740559478, 'age51-60'),\n",
              "  Text(1.090040835893689, -0.3664846191645537, 'age61')],\n",
              " [Text(0.6176780174858643, 0.20242002547853888, '10.1%'),\n",
              "  Text(0.06221091350534872, 0.6470160757205574, '26.8%'),\n",
              "  Text(-0.6472167158084913, 0.06008762583153497, '23.3%'),\n",
              "  Text(-0.26776624455352993, -0.5922847611391832, '16.1%'),\n",
              "  Text(0.3127116088508162, -0.5698345809881444, '13.4%'),\n",
              "  Text(0.6161100376790416, -0.20714348039735642, '10.3%')])"
            ]
          },
          "metadata": {},
          "execution_count": 8
        },
        {
          "output_type": "display_data",
          "data": {
            "image/png": "[encoded data removed]",
            "text/plain": [
              "<Figure size 432x288 with 1 Axes>"
            ]
          },
          "metadata": {}
        }
      ]
    },
    {
      "cell_type": "markdown",
      "source": [
        "2019년의 방문객의 목적을 알아보기 위해 2020 이후의 데이터를 삭제한 데이터프레임을 사용하여 pieplot을 만들었고 tourism을 제외한 다른 목적은 매우 적어 눈에 띄지 못해 legend를 생성했다. "
      ],
      "metadata": {
        "id": "yp8eBUUEP3O8"
      }
    },
    {
      "cell_type": "code",
      "source": [
        "purdf = purposedf[purposedf['date']>'2020'].index\n",
        "dfpurpose = purposedf.drop(purdf)\n",
        "\n",
        "p1 = dfpurpose['tourism'].sum()\n",
        "p2 = dfpurpose['business'].sum()\n",
        "p3 = dfpurpose['official affairs'].sum()\n",
        "p4 = dfpurpose['studying'].sum()\n",
        "p5 = dfpurpose['others'].sum()\n",
        "\n",
        "\n",
        "\n",
        "subjects = ['tourism', 'business', 'official affairs', 'studying', 'others']\n",
        "scores = [p1, p2, p3, p4, p5]\n",
        "fig = plt.figure(figsize = (8,8))\n",
        "ax = fig.add_subplot()\n",
        "ax.pie(scores,labels = subjects, explode = (0.05,0.05,0.05,0.05,0.05), autopct = '%1.1f%%')\n",
        "plt.legend()\n",
        "plt.show()"
      ],
      "metadata": {
        "colab": {
          "base_uri": "https://localhost:8080/",
          "height": 466
        },
        "id": "H7-VBpqLP2fW",
        "outputId": "d603162f-379d-49aa-8831-c3fca78fd9f9"
      },
      "execution_count": 50,
      "outputs": [
        {
          "output_type": "display_data",
          "data": {
            "image/png": "[encoded data removed]",
            "text/plain": [
              "<Figure size 576x576 with 1 Axes>"
            ]
          },
          "metadata": {}
        }
      ]
    }
  ]
}